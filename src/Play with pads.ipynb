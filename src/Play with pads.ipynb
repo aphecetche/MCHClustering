{
 "cells": [
  {
   "cell_type": "code",
   "execution_count": 8,
   "id": "2da6ba35",
   "metadata": {},
   "outputs": [],
   "source": [
    "import numpy as np\n",
    "import matplotlib.pyplot as plt\n",
    "import C.PyCWrapper as PCWrap\n",
    "import utilitiesForTests as tUtil\n",
    "import Util.plot as uPlt"
   ]
  },
  {
   "cell_type": "code",
   "execution_count": 4,
   "id": "15986f2e",
   "metadata": {},
   "outputs": [],
   "source": [
    "x0,y0,dx0,dy0=tUtil.buildPads( 16, 8, -2.0, 2.0, -2.0, 2.0 )"
   ]
  },
  {
   "cell_type": "code",
   "execution_count": 13,
   "id": "d06cf7b5",
   "metadata": {},
   "outputs": [
    {
     "data": {
      "text/plain": [
       "(array([-1.875, -1.625]),\n",
       " array([0.125, 0.125]),\n",
       " array([-1.75, -1.75]),\n",
       " array([0.25, 0.25]))"
      ]
     },
     "execution_count": 13,
     "metadata": {},
     "output_type": "execute_result"
    }
   ],
   "source": [
    "x0[:2], dx0[:2], y0[:2], dy0[:2]"
   ]
  },
  {
   "cell_type": "code",
   "execution_count": 57,
   "id": "fa99a628",
   "metadata": {},
   "outputs": [],
   "source": [
    "z0=np.ones(len(x0))\n",
    "odd=np.arange(0,len(z0),1)%2==0\n",
    "z0[odd]=0"
   ]
  },
  {
   "cell_type": "code",
   "execution_count": 56,
   "id": "bd699a5f",
   "metadata": {},
   "outputs": [
    {
     "data": {
      "image/png": "[encoded data removed]",
      "text/plain": [
       "<Figure size 432x288 with 2 Axes>"
      ]
     },
     "metadata": {
      "needs_background": "light"
     },
     "output_type": "display_data"
    }
   ],
   "source": [
    "fig,ax = plt.subplots()\n",
    "uPlt.setLUTScale(0.0,1.0)\n",
    "uPlt.drawPads(fig,ax,x0,y0,dx0,dy0,z0,title=\"toto\")"
   ]
  },
  {
   "cell_type": "code",
   "execution_count": 7,
   "id": "a4ac983e",
   "metadata": {},
   "outputs": [],
   "source": []
  }
 ],
 "metadata": {
  "kernelspec": {
   "display_name": "Python 3",
   "language": "python",
   "name": "python3"
  },
  "language_info": {
   "codemirror_mode": {
    "name": "ipython",
    "version": 3
   },
   "file_extension": ".py",
   "mimetype": "text/x-python",
   "name": "python",
   "nbconvert_exporter": "python",
   "pygments_lexer": "ipython3",
   "version": "3.9.2"
  }
 },
 "nbformat": 4,
 "nbformat_minor": 5
}
