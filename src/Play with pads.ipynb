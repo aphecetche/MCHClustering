{
 "cells": [
  {
   "cell_type": "code",
   "execution_count": 8,
   "id": "2da6ba35",
   "metadata": {},
   "outputs": [],
   "source": [
    "import os\n",
    "import sys\n",
    "sys.path.insert(0, os.path.abspath('./C'))\n",
    "sys.path.insert(0, os.path.abspath('./PyTests'))\n",
    "import numpy as np\n",
    "import matplotlib.pyplot as plt\n",
    "import C.PyCWrapper as PCWrap\n",
    "import utilitiesForTests as tUtil\n",
    "import Util.plot as uPlt"
   ]
  },
  {
   "cell_type": "code",
   "execution_count": 4,
   "id": "15986f2e",
   "metadata": {},
   "outputs": [],
   "source": [
    "x0,y0,dx0,dy0=tUtil.buildPads( 16, 8, -2.0, 2.0, -2.0, 2.0 )"
   ]
  },
  {
   "cell_type": "code",
   "execution_count": 13,
   "id": "d06cf7b5",
   "metadata": {},
   "outputs": [
    {
     "data": {
      "text/plain": [
       "(array([-1.875, -1.625]),\n",
       " array([0.125, 0.125]),\n",
       " array([-1.75, -1.75]),\n",
       " array([0.25, 0.25]))"
      ]
     },
     "execution_count": 13,
     "metadata": {},
     "output_type": "execute_result"
    }
   ],
   "source": [
    "x0[:2], dx0[:2], y0[:2], dy0[:2]"
   ]
  },
  {
   "cell_type": "code",
   "execution_count": 57,
   "id": "fa99a628",
   "metadata": {},
   "outputs": [],
   "source": [
    "z0=np.ones(len(x0))\n",
    "odd=np.arange(0,len(z0),1)%2==0\n",
    "z0[odd]=0"
   ]
  },
  {
   "cell_type": "code",
   "execution_count": 56,
   "id": "bd699a5f",
   "metadata": {},
   "outputs": [
    {
     "data": {
      "image/png": "[encoded data removed]",
      "text/plain": [
       "<Figure size 432x288 with 2 Axes>"
      ]
     },
     "metadata": {
      "needs_background": "light"
     },
     "output_type": "display_data"
    }
   ],
   "source": [
    "fig,ax = plt.subplots()\n",
    "uPlt.setLUTScale(0.0,1.0)\n",
    "uPlt.drawPads(fig,ax,x0,y0,dx0,dy0,z0,title=\"toto\")"
   ]
  },
  {
   "cell_type": "code",
   "execution_count": 59,
   "id": "a4ac983e",
   "metadata": {},
   "outputs": [],
   "source": [
    "x0, y0, dx0, dy0 = tUtil.buildPads( 4, 2, -1.0, 1.0, -1.0, 1.0 )\n",
    "x1, y1, dx1, dy1 = tUtil.buildPads( 2, 4, -1.0, 1.0, -1.0, 1.0 )\n"
   ]
  },
  {
   "cell_type": "code",
   "execution_count": 65,
   "id": "fd8373b6",
   "metadata": {},
   "outputs": [],
   "source": [
    "def mathieson_t():\n",
    "    K = 1\n",
    "    mu = [0.0, 0.0]\n",
    "    chId = 2\n",
    "    \n",
    "    x0, y0, dx0, dy0 = tUtil.buildPads( 4, 2, -1.0, 1.0, -1.0, 1.0 )\n",
    "    x1, y1, dx1, dy1 = tUtil.buildPads( 2, 4, -1.0, 1.0, -1.0, 1.0 )\n",
    "    \n",
    "    # Merge pads\n",
    "    N0 = x0.size\n",
    "    (x, y, dx, dy) = tUtil.mergePads( x0, y0, dx0, dy0, x1, y1, dx1, dy1 )\n",
    "    cath = np.zeros( x.size, dtype=np.int32 )\n",
    "    cath[N0:] = 1\n",
    "    #\n",
    "    # xyInfSup\n",
    "    xInf = x - dx - mu[0]\n",
    "    xSup = x + dx - mu[0]\n",
    "    yInf = y - dy - mu[1]\n",
    "    ySup = y + dy - mu[1]\n",
    "    \"\"\"\n",
    "    print(\"x\", x)\n",
    "    print(\"y\", y)\n",
    "    print(\"xInf\", xInf)\n",
    "    print(\"xSup\", xSup)\n",
    "    print(\"yInf\", yInf)\n",
    "    print(\"ySup\", ySup)\n",
    "    print(\"cath\", cath)\n",
    "    \"\"\"\n",
    "    z = tUtil.compute2DPadIntegrals( xInf, xSup, yInf, ySup, chId )\n",
    "    # print(\"z\", z)\n",
    "    print(\"sum z\", np.sum(z))\n",
    "\n",
    "    # Mathieson shift\n",
    "    mu = [0.4, 0.5]\n",
    "    chId = 0\n",
    "    # xyInfSup\n",
    "    xInf = x - dx - mu[0]\n",
    "    xSup = x + dx - mu[0]\n",
    "    yInf = y - dy - mu[1]\n",
    "    ySup = y + dy - mu[1]\n",
    "    \n",
    "    q = tUtil.compute2DPadIntegrals( xInf, xSup, yInf, ySup, chId )\n",
    "    # print(\"z\", z)\n",
    "    print(\"sum q\", np.sum(q))\n",
    "    \n",
    "\n",
    "    fig, ax = plt.subplots(nrows=2, ncols=2, figsize=(10, 7))\n",
    "    uPlt.setLUTScale( 0, np.max(z) )\n",
    "    uPlt.drawPads( fig, ax[0,0], x[cath==0], y[cath==0], dx[cath==0], dy[cath==0], z[cath==0],  title=\"Mathieson (%d,%d) cath-0\" % (0,0))\n",
    "    uPlt.drawPads( fig, ax[0,1], x[cath==1], y[cath==1], dx[cath==1], dy[cath==1], z[cath==1],  title=\"Mathieson (%d,%d) cath-1\" % (0,0))\n",
    "    uPlt.setLUTScale( 0, np.max(q) )\n",
    "    uPlt.drawPads( fig, ax[1,0], x[cath==0], y[cath==0], dx[cath==0], dy[cath==0], q[cath==0],  title=\"Mathieson (%3.1f, %3.1f) cath-0\" % (mu[0],mu[1]) )\n",
    "    uPlt.drawPads( fig, ax[1,1], x[cath==1], y[cath==1], dx[cath==1], dy[cath==1], q[cath==1],  title=\"Mathieson (%3.1f, %3.1f) cath-1\" % (mu[0],mu[1]) )\n",
    "    #"
   ]
  },
  {
   "cell_type": "code",
   "execution_count": 66,
   "id": "dbb35ec5",
   "metadata": {},
   "outputs": [
    {
     "ename": "NameError",
     "evalue": "name 'CLib' is not defined",
     "output_type": "error",
     "traceback": [
      "\u001b[1;31m---------------------------------------------------------------------------\u001b[0m",
      "\u001b[1;31mNameError\u001b[0m                                 Traceback (most recent call last)",
      "\u001b[1;32m<ipython-input-66-4785bd0e553b>\u001b[0m in \u001b[0;36m<module>\u001b[1;34m\u001b[0m\n\u001b[1;32m----> 1\u001b[1;33m \u001b[0mmathieson_t\u001b[0m\u001b[1;33m(\u001b[0m\u001b[1;33m)\u001b[0m\u001b[1;33m\u001b[0m\u001b[1;33m\u001b[0m\u001b[0m\n\u001b[0m",
      "\u001b[1;32m<ipython-input-65-d3a718e17b07>\u001b[0m in \u001b[0;36mmathieson_t\u001b[1;34m()\u001b[0m\n\u001b[0;32m     27\u001b[0m     \u001b[0mprint\u001b[0m\u001b[1;33m(\u001b[0m\u001b[1;34m\"cath\"\u001b[0m\u001b[1;33m,\u001b[0m \u001b[0mcath\u001b[0m\u001b[1;33m)\u001b[0m\u001b[1;33m\u001b[0m\u001b[1;33m\u001b[0m\u001b[0m\n\u001b[0;32m     28\u001b[0m     \"\"\"\n\u001b[1;32m---> 29\u001b[1;33m     \u001b[0mz\u001b[0m \u001b[1;33m=\u001b[0m \u001b[0mtUtil\u001b[0m\u001b[1;33m.\u001b[0m\u001b[0mcompute2DPadIntegrals\u001b[0m\u001b[1;33m(\u001b[0m \u001b[0mxInf\u001b[0m\u001b[1;33m,\u001b[0m \u001b[0mxSup\u001b[0m\u001b[1;33m,\u001b[0m \u001b[0myInf\u001b[0m\u001b[1;33m,\u001b[0m \u001b[0mySup\u001b[0m\u001b[1;33m,\u001b[0m \u001b[0mchId\u001b[0m \u001b[1;33m)\u001b[0m\u001b[1;33m\u001b[0m\u001b[1;33m\u001b[0m\u001b[0m\n\u001b[0m\u001b[0;32m     30\u001b[0m     \u001b[1;31m# print(\"z\", z)\u001b[0m\u001b[1;33m\u001b[0m\u001b[1;33m\u001b[0m\u001b[1;33m\u001b[0m\u001b[0m\n\u001b[0;32m     31\u001b[0m     \u001b[0mprint\u001b[0m\u001b[1;33m(\u001b[0m\u001b[1;34m\"sum z\"\u001b[0m\u001b[1;33m,\u001b[0m \u001b[0mnp\u001b[0m\u001b[1;33m.\u001b[0m\u001b[0msum\u001b[0m\u001b[1;33m(\u001b[0m\u001b[0mz\u001b[0m\u001b[1;33m)\u001b[0m\u001b[1;33m)\u001b[0m\u001b[1;33m\u001b[0m\u001b[1;33m\u001b[0m\u001b[0m\n",
      "\u001b[1;32m~/github.com/grasseau/MCHClustering/src/PyTests/utilitiesForTests.py\u001b[0m in \u001b[0;36mcompute2DPadIntegrals\u001b[1;34m(xInf, xSup, yInf, ySup, chId)\u001b[0m\n\u001b[0;32m    105\u001b[0m     \u001b[0mxyInfSup\u001b[0m\u001b[1;33m[\u001b[0m\u001b[1;36m2\u001b[0m\u001b[1;33m*\u001b[0m\u001b[0mN\u001b[0m\u001b[1;33m:\u001b[0m\u001b[1;36m3\u001b[0m\u001b[1;33m*\u001b[0m\u001b[0mN\u001b[0m\u001b[1;33m]\u001b[0m \u001b[1;33m=\u001b[0m \u001b[0mxSup\u001b[0m\u001b[1;33m[\u001b[0m\u001b[1;33m:\u001b[0m\u001b[1;33m]\u001b[0m\u001b[1;33m\u001b[0m\u001b[1;33m\u001b[0m\u001b[0m\n\u001b[0;32m    106\u001b[0m     \u001b[0mxyInfSup\u001b[0m\u001b[1;33m[\u001b[0m\u001b[1;36m3\u001b[0m\u001b[1;33m*\u001b[0m\u001b[0mN\u001b[0m\u001b[1;33m:\u001b[0m\u001b[1;36m4\u001b[0m\u001b[1;33m*\u001b[0m\u001b[0mN\u001b[0m\u001b[1;33m]\u001b[0m \u001b[1;33m=\u001b[0m \u001b[0mySup\u001b[0m\u001b[1;33m[\u001b[0m\u001b[1;33m:\u001b[0m\u001b[1;33m]\u001b[0m\u001b[1;33m\u001b[0m\u001b[1;33m\u001b[0m\u001b[0m\n\u001b[1;32m--> 107\u001b[1;33m     \u001b[0mz\u001b[0m \u001b[1;33m=\u001b[0m \u001b[0mPCWrap\u001b[0m\u001b[1;33m.\u001b[0m\u001b[0mcompute2DPadIntegrals\u001b[0m\u001b[1;33m(\u001b[0m \u001b[0mxyInfSup\u001b[0m\u001b[1;33m,\u001b[0m \u001b[0mchId\u001b[0m \u001b[1;33m)\u001b[0m\u001b[1;33m\u001b[0m\u001b[1;33m\u001b[0m\u001b[0m\n\u001b[0m\u001b[0;32m    108\u001b[0m     \u001b[1;32mreturn\u001b[0m \u001b[0mz\u001b[0m\u001b[1;33m\u001b[0m\u001b[1;33m\u001b[0m\u001b[0m\n",
      "\u001b[1;32m~/github.com/grasseau/MCHClustering/src/C/PyCWrapper.py\u001b[0m in \u001b[0;36mcompute2DPadIntegrals\u001b[1;34m(xyInfSup, chId)\u001b[0m\n\u001b[0;32m    188\u001b[0m   \u001b[0mN\u001b[0m \u001b[1;33m=\u001b[0m \u001b[0mint\u001b[0m\u001b[1;33m(\u001b[0m \u001b[0mxyInfSup\u001b[0m\u001b[1;33m.\u001b[0m\u001b[0msize\u001b[0m \u001b[1;33m/\u001b[0m \u001b[1;36m4\u001b[0m\u001b[1;33m)\u001b[0m\u001b[1;33m\u001b[0m\u001b[1;33m\u001b[0m\u001b[0m\n\u001b[0;32m    189\u001b[0m   \u001b[0mz\u001b[0m \u001b[1;33m=\u001b[0m \u001b[0mnp\u001b[0m\u001b[1;33m.\u001b[0m\u001b[0mzeros\u001b[0m\u001b[1;33m(\u001b[0m \u001b[1;33m(\u001b[0m\u001b[0mN\u001b[0m\u001b[1;33m)\u001b[0m\u001b[1;33m,\u001b[0m \u001b[0mdtype\u001b[0m\u001b[1;33m=\u001b[0m\u001b[0mnp\u001b[0m\u001b[1;33m.\u001b[0m\u001b[0mfloat64\u001b[0m \u001b[1;33m)\u001b[0m\u001b[1;33m\u001b[0m\u001b[1;33m\u001b[0m\u001b[0m\n\u001b[1;32m--> 190\u001b[1;33m   \u001b[0mCLib\u001b[0m\u001b[1;33m.\u001b[0m\u001b[0mcompute2DPadIntegrals\u001b[0m\u001b[1;33m(\u001b[0m \u001b[0mxyInfSup\u001b[0m\u001b[1;33m,\u001b[0m \u001b[0mN\u001b[0m\u001b[1;33m,\u001b[0m \u001b[0mchId\u001b[0m\u001b[1;33m,\u001b[0m \u001b[0mz\u001b[0m\u001b[1;33m)\u001b[0m\u001b[1;33m\u001b[0m\u001b[1;33m\u001b[0m\u001b[0m\n\u001b[0m\u001b[0;32m    191\u001b[0m   \u001b[1;32mreturn\u001b[0m \u001b[0mz\u001b[0m\u001b[1;33m\u001b[0m\u001b[1;33m\u001b[0m\u001b[0m\n\u001b[0;32m    192\u001b[0m \u001b[1;33m\u001b[0m\u001b[0m\n",
      "\u001b[1;31mNameError\u001b[0m: name 'CLib' is not defined"
     ]
    }
   ],
   "source": [
    "mathieson_t()"
   ]
  },
  {
   "cell_type": "code",
   "execution_count": null,
   "id": "3ef2a30a",
   "metadata": {},
   "outputs": [],
   "source": []
  }
 ],
 "metadata": {
  "kernelspec": {
   "display_name": "Python 3",
   "language": "python",
   "name": "python3"
  },
  "language_info": {
   "codemirror_mode": {
    "name": "ipython",
    "version": 3
   },
   "file_extension": ".py",
   "mimetype": "text/x-python",
   "name": "python",
   "nbconvert_exporter": "python",
   "pygments_lexer": "ipython3",
   "version": "3.9.2"
  }
 },
 "nbformat": 4,
 "nbformat_minor": 5
}
